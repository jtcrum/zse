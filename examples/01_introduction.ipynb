{
 "cells": [
  {
   "cell_type": "markdown",
   "metadata": {},
   "source": [
    "# Introduction to ZSE and Using Zeolite Frameworks"
   ]
  },
  {
   "cell_type": "markdown",
   "metadata": {},
   "source": [
    "This notebook will show you how to fetch any zeolite framework as an ASE atoms object, and some of the basic operations ZSE can perform."
   ]
  },
  {
   "cell_type": "markdown",
   "metadata": {},
   "source": [
    "## `zse.collections`"
   ]
  },
  {
   "cell_type": "markdown",
   "metadata": {},
   "source": [
    "Every zeolite framework listed on the [IZA Database](https://asia.iza-structure.org/IZA-SC/ftc_table.php) as of January of 2020 is included in ZSE, stored in an ASE SQLite database located in the `collections` module. You don't have to use the structure files provided by ZSE&mdash;you can use your own as well. "
   ]
  },
  {
   "cell_type": "code",
   "execution_count": 1,
   "metadata": {},
   "outputs": [],
   "source": [
    "from ase.visualize import view\n",
    "\n",
    "from zse.collections import framework, get_all_fws, get_ring_sizes"
   ]
  },
  {
   "cell_type": "markdown",
   "metadata": {},
   "source": [
    "## `collections.framework()` "
   ]
  },
  {
   "cell_type": "markdown",
   "metadata": {},
   "source": [
    "The `framework()` command fetches zeolite structure files from the included database. Just input the IZA framework code of the zeolite you want to use, and the command will grab the pure-silica form of the zeolite structure."
   ]
  },
  {
   "cell_type": "code",
   "execution_count": 2,
   "metadata": {},
   "outputs": [
    {
     "data": {
      "text/plain": [
       "<Popen: returncode: None args: ['/home/ajhoffman/repos/zse/.venv/bin/python'...>"
      ]
     },
     "execution_count": 2,
     "metadata": {},
     "output_type": "execute_result"
    }
   ],
   "source": [
    "z = framework(\"CHA\")\n",
    "view(z)"
   ]
  },
  {
   "cell_type": "markdown",
   "metadata": {},
   "source": [
    "The command above should open the ASE visualizer for a CHA framework, which looks like this:\n",
    "\n",
    "<img src=\"figures/cha.png\" style=\"width: 400px;\"/>"
   ]
  },
  {
   "cell_type": "markdown",
   "metadata": {},
   "source": [
    "## `collections.get_all_fws()`"
   ]
  },
  {
   "cell_type": "markdown",
   "metadata": {},
   "source": [
    "This command returns a list of every framework included in ZSE, which is handy if you want to iterate through all the frameworks."
   ]
  },
  {
   "cell_type": "code",
   "execution_count": 3,
   "metadata": {},
   "outputs": [],
   "source": [
    "# get list of all codes\n",
    "fws = get_all_fws()"
   ]
  },
  {
   "cell_type": "code",
   "execution_count": 4,
   "metadata": {},
   "outputs": [
    {
     "data": {
      "text/plain": [
       "<Popen: returncode: None args: ['/home/ajhoffman/repos/zse/.venv/bin/python'...>"
      ]
     },
     "execution_count": 4,
     "metadata": {},
     "output_type": "execute_result"
    }
   ],
   "source": [
    "# iterate over list for some actions\n",
    "# in this case, I'll create a trajectory of every structure file\n",
    "traj = [framework(x) for x in fws]\n",
    "view(traj)"
   ]
  },
  {
   "cell_type": "markdown",
   "metadata": {},
   "source": [
    "## `collections.get_ring_sizes()`"
   ]
  },
  {
   "cell_type": "markdown",
   "metadata": {},
   "source": [
    "This command retrieves the list of ring sizes within a framework. Many other functions in ZSE rely on this information."
   ]
  },
  {
   "cell_type": "code",
   "execution_count": 5,
   "metadata": {},
   "outputs": [
    {
     "name": "stdout",
     "output_type": "stream",
     "text": [
      "[8 6 4]\n"
     ]
    }
   ],
   "source": [
    "# the CHA framework contains 8-, 6-, and 4-membered rings (MR)\n",
    "ring_sizes = get_ring_sizes(\"CHA\")\n",
    "print(ring_sizes)"
   ]
  },
  {
   "cell_type": "markdown",
   "metadata": {},
   "source": [
    "## `zse.utilities`"
   ]
  },
  {
   "cell_type": "markdown",
   "metadata": {},
   "source": [
    "These are some basic utilities to get information about a framework, such as the O- and T-sites. Other functions in ZSE rely on on these utilities to alter particular frameworks."
   ]
  },
  {
   "cell_type": "code",
   "execution_count": 6,
   "metadata": {},
   "outputs": [],
   "source": [
    "from zse.utilities import get_osites, get_tsites, site_labels"
   ]
  },
  {
   "cell_type": "markdown",
   "metadata": {},
   "source": [
    "## `utilities.get_tsites()`"
   ]
  },
  {
   "cell_type": "markdown",
   "metadata": {},
   "source": [
    "This tool provides the unique T-sites, their multiplicity, and an atom index for an example in your framework."
   ]
  },
  {
   "cell_type": "code",
   "execution_count": 7,
   "metadata": {},
   "outputs": [
    {
     "name": "stdout",
     "output_type": "stream",
     "text": [
      "T-site \t Multiplicity \t Index\n",
      "T1 \t 8 \t\t 48\n",
      "T2 \t 8 \t\t 56\n",
      "T3 \t 4 \t\t 64\n",
      "T4 \t 4 \t\t 68\n"
     ]
    }
   ],
   "source": [
    "z = framework(\"TON\")\n",
    "tsites, tmults, tinds = get_tsites(\"TON\")\n",
    "\n",
    "# print the information\n",
    "print(\"T-site \\t Multiplicity \\t Index\")\n",
    "for ts, tm, ti in zip(tsites, tmults, tinds, strict=False):\n",
    "    print(f\"{ts} \\t {tm} \\t\\t {ti}\")"
   ]
  },
  {
   "cell_type": "markdown",
   "metadata": {},
   "source": [
    "## `utilities.get_osites()`"
   ]
  },
  {
   "cell_type": "markdown",
   "metadata": {},
   "source": [
    "This function is similar to `get_tsites`, but works for oxygen sites instead."
   ]
  },
  {
   "cell_type": "code",
   "execution_count": 8,
   "metadata": {},
   "outputs": [
    {
     "name": "stdout",
     "output_type": "stream",
     "text": [
      "O-site \t Multiplicity \t Index\n",
      "O1 \t 8 \t\t 0\n",
      "O2 \t 8 \t\t 8\n",
      "O3 \t 8 \t\t 16\n",
      "O4 \t 8 \t\t 24\n",
      "O5 \t 8 \t\t 32\n",
      "O6 \t 8 \t\t 40\n"
     ]
    }
   ],
   "source": [
    "z = framework(\"TON\")\n",
    "osites, omults, oinds = get_osites(\"TON\")\n",
    "\n",
    "# print the information\n",
    "print(\"O-site \\t Multiplicity \\t Index\")\n",
    "for os, om, oi in zip(osites, omults, oinds, strict=False):\n",
    "    print(f\"{os} \\t {om} \\t\\t {oi}\")"
   ]
  },
  {
   "cell_type": "markdown",
   "metadata": {},
   "source": [
    "## `utilities.site_labels()`"
   ]
  },
  {
   "cell_type": "markdown",
   "metadata": {},
   "source": [
    "This function gets all the site labels as a dictionary for you entire atoms object. The dictionary key-value pairs are `index` and `site_label`. This function works for `Atoms` objects provided by ZSE or your own zeolite `Atoms` object.\n",
    "\n",
    "Inputs:\n",
    " - `z` is the atoms object for which you want labels\n",
    " - `'TON'` is the IZA framework code for the zeolite you are using"
   ]
  },
  {
   "cell_type": "code",
   "execution_count": 9,
   "metadata": {},
   "outputs": [
    {
     "name": "stdout",
     "output_type": "stream",
     "text": [
      "atom index 48:  T1\n",
      "atom index 24:  O4\n"
     ]
    }
   ],
   "source": [
    "z = framework(\"TON\")\n",
    "labels = site_labels(z, \"TON\")\n",
    "\n",
    "# let's make sure we get results that match the last two functions\n",
    "\n",
    "# this should be a T1\n",
    "print(\"atom index 48: \", labels[48])\n",
    "\n",
    "# this should be an O4\n",
    "print(\"atom index 24: \", labels[24])"
   ]
  }
 ],
 "metadata": {
  "kernelspec": {
   "display_name": "zeolite-simulation-environment-jcrum (3.12.9)",
   "language": "python",
   "name": "python3"
  },
  "language_info": {
   "codemirror_mode": {
    "name": "ipython",
    "version": 3
   },
   "file_extension": ".py",
   "mimetype": "text/x-python",
   "name": "python",
   "nbconvert_exporter": "python",
   "pygments_lexer": "ipython3",
   "version": "3.12.9"
  }
 },
 "nbformat": 4,
 "nbformat_minor": 4
}
