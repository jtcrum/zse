{
 "cells": [
  {
   "cell_type": "markdown",
   "metadata": {},
   "source": [
    "# Introduction to ZSE and Useing Zeolite Frameworks"
   ]
  },
  {
   "cell_type": "markdown",
   "metadata": {},
   "source": [
    "Here I will show you how to call any zeolite framework in as an ASE atoms object, and some of the basic operations ZSE can perform."
   ]
  },
  {
   "cell_type": "markdown",
   "metadata": {},
   "source": [
    "## zse.collections\n",
    "Every zeolite framework listed on the [IZA Database](https://asia.iza-structure.org/IZA-SC/ftc_table.php) as of January of 2020 is included in ZSE. \\\n",
    "You don't have to use the structure files provided by ZSE, you can use your own as well. "
   ]
  },
  {
   "cell_type": "code",
   "execution_count": 4,
   "metadata": {},
   "outputs": [],
   "source": [
    "from zse.collections import *\n",
    "from ase.visualize import view"
   ]
  },
  {
   "cell_type": "markdown",
   "metadata": {},
   "source": [
    "## collections.framework( ) \n",
    "\n",
    "The framework command calls zeolite structure files from an included database. \\\n",
    "Just input the IZA framework code of the zeolite you want to use."
   ]
  },
  {
   "cell_type": "code",
   "execution_count": 3,
   "metadata": {},
   "outputs": [],
   "source": [
    "z = framework(\"CHA\")\n",
    "view(z)"
   ]
  },
  {
   "cell_type": "markdown",
   "metadata": {},
   "source": [
    "<img src=\"figures/cha.png\" style=\"width: 400px;\"/>"
   ]
  },
  {
   "cell_type": "markdown",
   "metadata": {},
   "source": [
    "## collections.get_all_fws( )\n",
    "This command will return a list of every framework included in ZSE. \\\n",
    "This is handy if you wanted to iterate through all the frameworks."
   ]
  },
  {
   "cell_type": "code",
   "execution_count": 14,
   "metadata": {},
   "outputs": [],
   "source": [
    "# get list of all codes\n",
    "fws = get_all_fws()"
   ]
  },
  {
   "cell_type": "code",
   "execution_count": 17,
   "metadata": {},
   "outputs": [],
   "source": [
    "# iterate over list for some actions\n",
    "# in this case, I'll create a trajectory of every structure file\n",
    "traj = [framework(x) for x in fws]\n",
    "view(traj)"
   ]
  },
  {
   "cell_type": "markdown",
   "metadata": {},
   "source": [
    "## collections.get_ring_sizes( )\n",
    "This command will get the list of the ring sizes included in a particular framework. \\\n",
    "Many other functions in ZSE rely on this information."
   ]
  },
  {
   "cell_type": "code",
   "execution_count": 20,
   "metadata": {},
   "outputs": [
    {
     "name": "stdout",
     "output_type": "stream",
     "text": [
      "[8 6 4]\n"
     ]
    }
   ],
   "source": [
    "# the CHA framework contains 8-, 6-, and 4-membered rings (MR)\n",
    "ring_sizes = get_ring_sizes(\"CHA\")\n",
    "print(ring_sizes)"
   ]
  },
  {
   "cell_type": "markdown",
   "metadata": {},
   "source": [
    "## zse.utilities\n",
    "These are some basic utilities to get information about a framework. \\\n",
    "Other functions in ZSE rely on on these utilities."
   ]
  },
  {
   "cell_type": "code",
   "execution_count": 22,
   "metadata": {},
   "outputs": [],
   "source": [
    "from zse.utilities import *"
   ]
  },
  {
   "cell_type": "markdown",
   "metadata": {},
   "source": [
    "## utilities.get_tsites( )\n",
    "This will provide the unique T-sites, their multiplicity, and an atom index for an example in your framework."
   ]
  },
  {
   "cell_type": "code",
   "execution_count": 28,
   "metadata": {},
   "outputs": [
    {
     "name": "stdout",
     "output_type": "stream",
     "text": [
      "T-site \t Multiplicity \t Index\n",
      "T1 \t 8 \t\t 48\n",
      "T2 \t 8 \t\t 56\n",
      "T3 \t 4 \t\t 64\n",
      "T4 \t 4 \t\t 68\n"
     ]
    }
   ],
   "source": [
    "z = framework(\"TON\")\n",
    "tsites, tmults, tinds = get_tsites(\"TON\")\n",
    "\n",
    "# print the information\n",
    "print(\"T-site \\t Multiplicity \\t Index\")\n",
    "for ts, tm, ti in zip(tsites, tmults, tinds):\n",
    "    print(\"{0} \\t {1} \\t\\t {2}\".format(ts, tm, ti))"
   ]
  },
  {
   "cell_type": "markdown",
   "metadata": {},
   "source": [
    "## utilities.get_osites( )\n",
    "Same as above, but will get the information for each unique oxygen site."
   ]
  },
  {
   "cell_type": "code",
   "execution_count": 29,
   "metadata": {},
   "outputs": [
    {
     "name": "stdout",
     "output_type": "stream",
     "text": [
      "O-site \t Multiplicity \t Index\n",
      "O1 \t 8 \t\t 0\n",
      "O2 \t 8 \t\t 8\n",
      "O3 \t 8 \t\t 16\n",
      "O4 \t 8 \t\t 24\n",
      "O5 \t 8 \t\t 32\n",
      "O6 \t 8 \t\t 40\n"
     ]
    }
   ],
   "source": [
    "z = framework(\"TON\")\n",
    "osites, omults, oinds = get_osites(\"TON\")\n",
    "\n",
    "# print the information\n",
    "print(\"O-site \\t Multiplicity \\t Index\")\n",
    "for os, om, oi in zip(osites, omults, oinds):\n",
    "    print(\"{0} \\t {1} \\t\\t {2}\".format(os, om, oi))"
   ]
  },
  {
   "cell_type": "markdown",
   "metadata": {},
   "source": [
    "## utilities.site_labels( )\n",
    "This function will get all the site labels as a dictionary for you entire atoms object. \\\n",
    "The dictionary key:value pairs are index:site_label. \\\n",
    "This will work for atoms objects provided by ZSE, or if you have your own zeolite atoms object as well.\n",
    "### Inputs\n",
    "**z** is the atoms object you want labels for \\\n",
    "**'TON'** is the IZA framework code for the zeolite you are using"
   ]
  },
  {
   "cell_type": "code",
   "execution_count": 34,
   "metadata": {},
   "outputs": [
    {
     "name": "stdout",
     "output_type": "stream",
     "text": [
      "atom index 48:  T1\n",
      "atom index 24:  O4\n"
     ]
    }
   ],
   "source": [
    "z = framework(\"TON\")\n",
    "labels = site_labels(z, \"TON\")\n",
    "\n",
    "# let's make sure we get results that match the last two functions\n",
    "\n",
    "# this should be a T1\n",
    "print(\"atom index 48: \", labels[48])\n",
    "\n",
    "# this should be an O4\n",
    "print(\"atom index 24: \", labels[24])"
   ]
  },
  {
   "cell_type": "code",
   "execution_count": null,
   "metadata": {},
   "outputs": [],
   "source": []
  }
 ],
 "metadata": {
  "kernelspec": {
   "display_name": "Python 3",
   "language": "python",
   "name": "python3"
  },
  "language_info": {
   "codemirror_mode": {
    "name": "ipython",
    "version": 3
   },
   "file_extension": ".py",
   "mimetype": "text/x-python",
   "name": "python",
   "nbconvert_exporter": "python",
   "pygments_lexer": "ipython3",
   "version": "3.7.6"
  }
 },
 "nbformat": 4,
 "nbformat_minor": 4
}
