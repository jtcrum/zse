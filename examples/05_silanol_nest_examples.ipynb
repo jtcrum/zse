{
 "cells": [
  {
   "cell_type": "markdown",
   "metadata": {},
   "source": [
    "# Silanol Nests with ZSE\n",
    "This notebook will show you how to make a silanol nest using ZSE. \\\n",
    "It is pretty straightforward, and will replace a T-site with 4 protons. \\\n",
    "Each proton will be along the O-Si vector for the Si that is replaced. "
   ]
  },
  {
   "cell_type": "code",
   "execution_count": 1,
   "metadata": {},
   "outputs": [],
   "source": [
    "from zse.substitute import *\n",
    "from zse.collections import *\n",
    "from ase.visualize import view"
   ]
  },
  {
   "cell_type": "code",
   "execution_count": 2,
   "metadata": {},
   "outputs": [],
   "source": [
    "z = framework(\"CHA\")\n",
    "view(z)"
   ]
  },
  {
   "cell_type": "markdown",
   "metadata": {},
   "source": [
    "<img src=\"figures/cha.png\" style=\"width: 400px;\"/>"
   ]
  },
  {
   "cell_type": "markdown",
   "metadata": {},
   "source": [
    "## substitute.nest(atoms, index)\n",
    "\n",
    "### Inputs\n",
    "**atoms** is the atoms object of the zeolite framework you are using \\\n",
    "**index** is the index of the tsite you want to replaced with a silanol nest \\\n",
    "\n",
    "### Outputs\n",
    "**atoms** is the new atoms object containing the nest"
   ]
  },
  {
   "cell_type": "code",
   "execution_count": 3,
   "metadata": {},
   "outputs": [],
   "source": [
    "z = nest(z, 101)\n",
    "view(z)"
   ]
  },
  {
   "cell_type": "markdown",
   "metadata": {},
   "source": [
    "<img src=\"figures/cha_nest.png\" style=\"width: 400px;\"/>"
   ]
  },
  {
   "cell_type": "code",
   "execution_count": null,
   "metadata": {},
   "outputs": [],
   "source": []
  }
 ],
 "metadata": {
  "kernelspec": {
   "display_name": "Python 3",
   "language": "python",
   "name": "python3"
  },
  "language_info": {
   "codemirror_mode": {
    "name": "ipython",
    "version": 3
   },
   "file_extension": ".py",
   "mimetype": "text/x-python",
   "name": "python",
   "nbconvert_exporter": "python",
   "pygments_lexer": "ipython3",
   "version": "3.7.6"
  }
 },
 "nbformat": 4,
 "nbformat_minor": 4
}
