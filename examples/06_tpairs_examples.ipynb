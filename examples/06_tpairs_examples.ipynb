{
 "cells": [
  {
   "cell_type": "markdown",
   "metadata": {},
   "source": [
    "# Example of Use for tpairs.py Module"
   ]
  },
  {
   "cell_type": "code",
   "execution_count": null,
   "metadata": {},
   "outputs": [],
   "source": [
    "from ase.visualize import view\n",
    "\n",
    "from zse.tpairs import get_pairs"
   ]
  },
  {
   "cell_type": "markdown",
   "metadata": {},
   "source": [
    "This module will find all the unique rings in a framework (based on the validation method, see `rings.py` module for explanation). Those rings will be used to determine all of the unique T-T pairs in the framework that share a ring. This tool can be useful if you want to investigate Al-Al pairs responsbile for divalent cation uptake, like Co<sup>+2</sup>.\n",
    "\n",
    "**Note:** This method only works for zeolite frameworks that are listed on the IZA Structure Database. "
   ]
  },
  {
   "cell_type": "markdown",
   "metadata": {},
   "source": [
    "## `get_pairs()`\n",
    "\n",
    "**Inputs**:\n",
    " - `code`: the IZA framework code for the zeolite to analyze\n",
    " - `validation`: the method to determine valid rings (see the rings.py module), default is the Goetzke method\n",
    " - `max_ring`: the largest size ring to search for (# of T-sites)\n",
    "\n",
    "**Outputs**:\n",
    " - `pairs`: the list of unique T-T pairs in the framework\n",
    "    - Example:\n",
    "        - 4-MR 2NN | [['O1', 'T1', 'O4'], ['O3', 'T1', 'O4']]\n",
    "        - This is a second nearest neighbor pair in a 4-membered ring\n",
    "        - The T-sites and their O-site neighbors in the ring are listed\n",
    " - `traj`: a list of atoms objects showing the pairs in a unit cell of the framework"
   ]
  },
  {
   "cell_type": "code",
   "execution_count": 9,
   "metadata": {},
   "outputs": [],
   "source": [
    "# run the function\n",
    "code = \"CHA\"\n",
    "pairs, traj = get_pairs(code, validation=\"crum\", max_ring=12)\n",
    "view(traj)"
   ]
  },
  {
   "cell_type": "code",
   "execution_count": 8,
   "metadata": {},
   "outputs": [
    {
     "name": "stdout",
     "output_type": "stream",
     "text": [
      "4-MR 2NN | [['O2', 'T1', 'O1'], ['O2', 'T1', 'O1']]\n",
      "4-MR 2NN | [['O1', 'T1', 'O4'], ['O3', 'T1', 'O4']]\n",
      "6-MR 2NN | [['O1', 'T1', 'O3'], ['O1', 'T1', 'O3']]\n",
      "6-MR 3NN | [['O1', 'T1', 'O3'], ['O3', 'T1', 'O1']]\n",
      "8-MR 2NN | [['O3', 'T1', 'O2'], ['O4', 'T1', 'O2']]\n",
      "8-MR 2NN | [['O4', 'T1', 'O2'], ['O3', 'T1', 'O2']]\n",
      "8-MR 3NN | [['O3', 'T1', 'O2'], ['O2', 'T1', 'O3']]\n",
      "8-MR 3NN | [['O2', 'T1', 'O4'], ['O3', 'T1', 'O2']]\n",
      "8-MR 3NN | [['O4', 'T1', 'O2'], ['O2', 'T1', 'O4']]\n",
      "8-MR 4NN | [['O3', 'T1', 'O2'], ['O3', 'T1', 'O2']]\n",
      "8-MR 4NN | [['O2', 'T1', 'O4'], ['O2', 'T1', 'O4']]\n",
      "12-MR 2NN | [['O3', 'T1', 'O2'], ['O3', 'T1', 'O2']]\n",
      "12-MR 3NN | [['O3', 'T1', 'O2'], ['O2', 'T1', 'O3']]\n",
      "12-MR 3NN | [['O2', 'T1', 'O3'], ['O3', 'T1', 'O2']]\n",
      "12-MR 4NN | [['O3', 'T1', 'O2'], ['O3', 'T1', 'O2']]\n",
      "12-MR 5NN | [['O3', 'T1', 'O2'], ['O2', 'T1', 'O3']]\n",
      "12-MR 5NN | [['O2', 'T1', 'O3'], ['O3', 'T1', 'O2']]\n",
      "12-MR 6NN | [['O3', 'T1', 'O2'], ['O3', 'T1', 'O2']]\n"
     ]
    }
   ],
   "source": [
    "# print the pairs that are found\n",
    "for p in pairs:\n",
    "    print(p)"
   ]
  },
  {
   "cell_type": "markdown",
   "metadata": {},
   "source": [
    "Next, we'll visualize the pairs. The code below just shows the 6-MR 3NN pair. You can see all pairs using `view(traj)`. You may need to repeat the cell in order to see the pair displayed correctly."
   ]
  },
  {
   "cell_type": "code",
   "execution_count": null,
   "metadata": {},
   "outputs": [],
   "source": [
    "view(traj[3])"
   ]
  },
  {
   "cell_type": "markdown",
   "metadata": {},
   "source": [
    "<img src=\"figures/cha_tpair.png\" style=\"width: 400px;\"/>"
   ]
  }
 ],
 "metadata": {
  "kernelspec": {
   "display_name": "Python 3",
   "language": "python",
   "name": "python3"
  },
  "language_info": {
   "codemirror_mode": {
    "name": "ipython",
    "version": 3
   },
   "file_extension": ".py",
   "mimetype": "text/x-python",
   "name": "python",
   "nbconvert_exporter": "python",
   "pygments_lexer": "ipython3",
   "version": "3.7.6"
  }
 },
 "nbformat": 4,
 "nbformat_minor": 4
}
