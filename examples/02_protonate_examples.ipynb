{
 "cells": [
  {
   "cell_type": "markdown",
   "metadata": {},
   "source": [
    "# Examples of Use for protonoate.py Module\n",
    "# Isolated Proton Structures First"
   ]
  },
  {
   "cell_type": "markdown",
   "metadata": {},
   "source": [
    "## Background\n",
    "First we will need to get a zeolite framework, and replace a T-site with an aluminum atom."
   ]
  },
  {
   "cell_type": "code",
   "execution_count": 16,
   "metadata": {},
   "outputs": [],
   "source": [
    "from zse.collections import *\n",
    "from zse.substitute import tsub\n",
    "from ase.visualize import view"
   ]
  },
  {
   "cell_type": "code",
   "execution_count": 27,
   "metadata": {},
   "outputs": [],
   "source": [
    "# I will use the CHA framework\n",
    "# I've included a screen shot of what the view() command shows me\n",
    "z = framework(\"CHA\")\n",
    "view(z)"
   ]
  },
  {
   "cell_type": "markdown",
   "metadata": {},
   "source": [
    "<img src=\"figures/cha.png\" style=\"width: 400px;\"/>"
   ]
  },
  {
   "cell_type": "code",
   "execution_count": 28,
   "metadata": {},
   "outputs": [],
   "source": [
    "# replace atom 101 with an Al atom\n",
    "z = tsub(z, 101, \"Al\")\n",
    "view(z)"
   ]
  },
  {
   "cell_type": "markdown",
   "metadata": {},
   "source": [
    "<img src=\"figures/cha_al.png\" style=\"width: 400px;\"/>"
   ]
  },
  {
   "cell_type": "markdown",
   "metadata": {},
   "source": [
    "## Create Proton Structures\n",
    "Now we will use protonate.isolated( ) to enumerate the 4 possible proton locations.\n",
    "### Inputs\n",
    "**z** is an atoms object containing your zeolite framework. \\\n",
    "**101** is the index of the T-site about which we will place the proton. \\\n",
    "**'CHA'** is the IZA framework code for the zeolite structure we are using. \\\n",
    "**path** if provided will save all the structures to that path. \n",
    "### Outputs\n",
    "**traj** is an ASE trajectory containing each of the structures. You can view this trajectory with the view() command. \\\n",
    "**locations** are the list of the oxygen atoms that the proton was bound respective to the structures in the trajectory."
   ]
  },
  {
   "cell_type": "code",
   "execution_count": 8,
   "metadata": {},
   "outputs": [],
   "source": [
    "from zse.protonate import *"
   ]
  },
  {
   "cell_type": "code",
   "execution_count": 29,
   "metadata": {},
   "outputs": [],
   "source": [
    "traj, locations = isolated(z, 101, \"CHA\", path=None)"
   ]
  },
  {
   "cell_type": "code",
   "execution_count": 30,
   "metadata": {},
   "outputs": [
    {
     "name": "stdout",
     "output_type": "stream",
     "text": [
      "O1\n",
      "O2\n",
      "O3\n",
      "O4\n"
     ]
    }
   ],
   "source": [
    "# there are four distinct oxygen sites in CHA, and we have placed a proton at each one.\n",
    "# these oxygen site labels are consistent with the labels provided by the IZA\n",
    "for l in locations:\n",
    "    print(l)"
   ]
  },
  {
   "cell_type": "code",
   "execution_count": 12,
   "metadata": {},
   "outputs": [],
   "source": [
    "# you can either view the entire trajectory with:\n",
    "view(traj)\n",
    "\n",
    "# or view just one image in the trajectory with:\n",
    "view(traj[3])"
   ]
  },
  {
   "cell_type": "markdown",
   "metadata": {},
   "source": [
    "<img src=\"figures/cha_h.png\" style=\"width: 400px;\"/>"
   ]
  },
  {
   "cell_type": "markdown",
   "metadata": {},
   "source": [
    "# Paired Proton Structures\n",
    "Now we will move on to two proton paired structures. \\\n",
    "These structures can be generated with protonate.paired( ) \\\n",
    "For now ZSE stops at clusters of two. Eventually I can make this function recursive and account for any number proton pairs. "
   ]
  },
  {
   "cell_type": "code",
   "execution_count": 32,
   "metadata": {},
   "outputs": [],
   "source": [
    "# place two Al atoms in the zeolite framework\n",
    "z = framework(\"CHA\")\n",
    "z = tsub(z, [101, 98], \"Al\")\n",
    "view(z)"
   ]
  },
  {
   "cell_type": "markdown",
   "metadata": {},
   "source": [
    "<img src=\"figures/cha_2al.png\" style=\"width: 400px;\"/>"
   ]
  },
  {
   "cell_type": "code",
   "execution_count": 33,
   "metadata": {},
   "outputs": [],
   "source": [
    "# generate the structures.\n",
    "# this command works exactly the same as the isolated version.\n",
    "traj, locations = paired(z, [101, 98], \"CHA\", path=None)"
   ]
  },
  {
   "cell_type": "code",
   "execution_count": 25,
   "metadata": {},
   "outputs": [
    {
     "name": "stdout",
     "output_type": "stream",
     "text": [
      "O1-O1\n",
      "O1-O2\n",
      "O1-O3\n",
      "O1-O4\n",
      "O2-O1\n",
      "O2-O2\n",
      "O2-O3\n",
      "O2-O4\n",
      "O3-O1\n",
      "O3-O2\n",
      "O3-O3\n",
      "O3-O4\n",
      "O4-O1\n",
      "O4-O2\n",
      "O4-O3\n",
      "O4-O4\n"
     ]
    }
   ],
   "source": [
    "# now there are 16 possible structures\n",
    "# both protons have four possible binding locations\n",
    "for l in locations:\n",
    "    print(l)"
   ]
  },
  {
   "cell_type": "code",
   "execution_count": 37,
   "metadata": {},
   "outputs": [],
   "source": [
    "view(traj[12])"
   ]
  },
  {
   "cell_type": "markdown",
   "metadata": {},
   "source": [
    "<img src=\"figures/cha_2h.png\" style=\"width: 400px;\"/>"
   ]
  },
  {
   "cell_type": "code",
   "execution_count": null,
   "metadata": {},
   "outputs": [],
   "source": []
  }
 ],
 "metadata": {
  "kernelspec": {
   "display_name": "Python 3",
   "language": "python",
   "name": "python3"
  },
  "language_info": {
   "codemirror_mode": {
    "name": "ipython",
    "version": 3
   },
   "file_extension": ".py",
   "mimetype": "text/x-python",
   "name": "python",
   "nbconvert_exporter": "python",
   "pygments_lexer": "ipython3",
   "version": "3.7.6"
  }
 },
 "nbformat": 4,
 "nbformat_minor": 4
}
