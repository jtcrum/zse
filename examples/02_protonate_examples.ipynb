{
 "cells": [
  {
   "cell_type": "markdown",
   "metadata": {},
   "source": [
    "# Examples of the `protonate.py` Module"
   ]
  },
  {
   "cell_type": "markdown",
   "metadata": {},
   "source": [
    "This notebook shows examples of how to create protonated zeolite structures. It begins by showing how to change T-atoms to a heteroatom, then how to create isolated proton structures, and finally how to create paired proton structures."
   ]
  },
  {
   "cell_type": "code",
   "execution_count": null,
   "metadata": {},
   "outputs": [],
   "source": [
    "from ase.visualize import view\n",
    "\n",
    "from zse.collections import framework\n",
    "from zse.protonate import isolated, paired\n",
    "from zse.substitute import tsub"
   ]
  },
  {
   "cell_type": "markdown",
   "metadata": {},
   "source": [
    "## Setup\n",
    "First, we need to get a zeolite framework `Atoms` object and replace a T-site with an aluminum atom."
   ]
  },
  {
   "cell_type": "code",
   "execution_count": null,
   "metadata": {},
   "outputs": [],
   "source": [
    "# I will use the CHA framework\n",
    "# I've included a screen shot of what the view() command shows me\n",
    "zeo = framework(\"CHA\")\n",
    "view(zeo)"
   ]
  },
  {
   "cell_type": "markdown",
   "metadata": {},
   "source": [
    "<img src=\"figures/cha.png\" style=\"width: 400px;\"/>"
   ]
  },
  {
   "cell_type": "code",
   "execution_count": null,
   "metadata": {},
   "outputs": [],
   "source": [
    "# replace atom 101 with an Al atom\n",
    "zeo = tsub(zeo, 101, \"Al\")\n",
    "view(zeo)"
   ]
  },
  {
   "cell_type": "markdown",
   "metadata": {},
   "source": [
    "<img src=\"figures/cha_al.png\" style=\"width: 400px;\"/>"
   ]
  },
  {
   "cell_type": "markdown",
   "metadata": {},
   "source": [
    "## Create Proton Structures"
   ]
  },
  {
   "cell_type": "markdown",
   "metadata": {},
   "source": [
    "Now, we use `protonate.isolated()` to enumerate the 4 possible proton locations around the Al that we've added to the framework.\n",
    "\n",
    "**Inputs**:\n",
    " - `zeo`: an `Atoms` object containing your zeolite framework\n",
    " - `101`: the index of the T-site about which we will place the proton\n",
    " - `\"CHA\"`: the IZA framework code for the zeolite structure we are using\n",
    " - `path`: if provided, save all the structures to that path\n",
    "\n",
    "**Outputs**:\n",
    " - `traj`: an ASE trajectory containing each of the structures. You can view this trajectory with the `view()` command from ASE.\n",
    " - `locations`: the list of the oxygen atoms that the proton was bound respective to the structures in the trajectory."
   ]
  },
  {
   "cell_type": "code",
   "execution_count": null,
   "metadata": {},
   "outputs": [],
   "source": [
    "traj, locations = isolated(zeo, 101, \"CHA\", path=None)"
   ]
  },
  {
   "cell_type": "code",
   "execution_count": null,
   "metadata": {},
   "outputs": [
    {
     "name": "stdout",
     "output_type": "stream",
     "text": [
      "O1\n",
      "O2\n",
      "O3\n",
      "O4\n"
     ]
    }
   ],
   "source": [
    "# there are four distinct oxygen sites in CHA, and we have placed a proton at each one.\n",
    "# these oxygen site labels are consistent with the labels provided by the IZA\n",
    "for lc in locations:\n",
    "    print(lc)"
   ]
  },
  {
   "cell_type": "code",
   "execution_count": 12,
   "metadata": {},
   "outputs": [],
   "source": [
    "# you can either view the entire trajectory with:\n",
    "view(traj)\n",
    "\n",
    "# or view just one image in the trajectory with:\n",
    "view(traj[3])"
   ]
  },
  {
   "cell_type": "markdown",
   "metadata": {},
   "source": [
    "<img src=\"figures/cha_h.png\" style=\"width: 400px;\"/>"
   ]
  },
  {
   "cell_type": "markdown",
   "metadata": {},
   "source": [
    "# Paired Proton Structures"
   ]
  },
  {
   "cell_type": "markdown",
   "metadata": {},
   "source": [
    "Next, let's address how to make structures with two paired protons. These structures can be generated with `protonate.paired()`. For now, ZSE stops at clusters of two.\n",
    "\n",
    "**TODO**: Eventually, this function can be made recursive to account for any number of proton pairs. "
   ]
  },
  {
   "cell_type": "code",
   "execution_count": null,
   "metadata": {},
   "outputs": [],
   "source": [
    "# place two Al atoms in the zeolite framework\n",
    "paired_Al_idx = [101, 98]\n",
    "zeo = framework(\"CHA\")\n",
    "zeo = tsub(zeo, paired_Al_idx, \"Al\")\n",
    "view(zeo)"
   ]
  },
  {
   "cell_type": "markdown",
   "metadata": {},
   "source": [
    "<img src=\"figures/cha_2al.png\" style=\"width: 400px;\"/>"
   ]
  },
  {
   "cell_type": "code",
   "execution_count": null,
   "metadata": {},
   "outputs": [],
   "source": [
    "# generate the structures.\n",
    "# this command works exactly the same as the isolated version.\n",
    "traj, locations = paired(zeo, paired_Al_idx, \"CHA\", path=None)"
   ]
  },
  {
   "cell_type": "code",
   "execution_count": null,
   "metadata": {},
   "outputs": [
    {
     "name": "stdout",
     "output_type": "stream",
     "text": [
      "O1-O1\n",
      "O1-O2\n",
      "O1-O3\n",
      "O1-O4\n",
      "O2-O1\n",
      "O2-O2\n",
      "O2-O3\n",
      "O2-O4\n",
      "O3-O1\n",
      "O3-O2\n",
      "O3-O3\n",
      "O3-O4\n",
      "O4-O1\n",
      "O4-O2\n",
      "O4-O3\n",
      "O4-O4\n"
     ]
    }
   ],
   "source": [
    "# now there are 16 possible structures\n",
    "# both protons have four possible binding locations\n",
    "for lc in locations:\n",
    "    print(lc)"
   ]
  },
  {
   "cell_type": "code",
   "execution_count": 37,
   "metadata": {},
   "outputs": [],
   "source": [
    "view(traj[12])"
   ]
  },
  {
   "cell_type": "markdown",
   "metadata": {},
   "source": [
    "<img src=\"figures/cha_2h.png\" style=\"width: 400px;\"/>"
   ]
  }
 ],
 "metadata": {
  "kernelspec": {
   "display_name": "zeose (3.12.9)",
   "language": "python",
   "name": "python3"
  },
  "language_info": {
   "codemirror_mode": {
    "name": "ipython",
    "version": 3
   },
   "file_extension": ".py",
   "mimetype": "text/x-python",
   "name": "python",
   "nbconvert_exporter": "python",
   "pygments_lexer": "ipython3",
   "version": "3.12.9"
  }
 },
 "nbformat": 4,
 "nbformat_minor": 4
}
