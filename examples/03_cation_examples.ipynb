{
 "cells": [
  {
   "cell_type": "markdown",
   "metadata": {},
   "source": [
    "# Examples of Using the `cation.py` Module"
   ]
  },
  {
   "cell_type": "code",
   "execution_count": 14,
   "metadata": {},
   "outputs": [],
   "source": [
    "from ase.visualize import view\n",
    "\n",
    "from zse.cation import divalent, monovalent\n",
    "from zse.collections import framework\n",
    "from zse.substitute import tsub"
   ]
  },
  {
   "cell_type": "markdown",
   "metadata": {},
   "source": [
    "## Monovalent Cation Exchange"
   ]
  },
  {
   "cell_type": "markdown",
   "metadata": {},
   "source": [
    "This tool can be used to enumerate the structures for possible cation locations around an isolated Al in a zeolite framework."
   ]
  },
  {
   "cell_type": "markdown",
   "metadata": {},
   "source": [
    "### Create the zeolite backbone"
   ]
  },
  {
   "cell_type": "code",
   "execution_count": 15,
   "metadata": {},
   "outputs": [
    {
     "data": {
      "text/plain": [
       "<Popen: returncode: None args: ['/home/ajhoffman/repos/zse/.venv/bin/python'...>"
      ]
     },
     "execution_count": 15,
     "metadata": {},
     "output_type": "execute_result"
    }
   ],
   "source": [
    "# get a zeolite framework to work with\n",
    "zeo = framework(\"CHA\")\n",
    "view(zeo)"
   ]
  },
  {
   "cell_type": "markdown",
   "metadata": {},
   "source": [
    "<img src=\"figures/cha.png\" style=\"width: 400px;\"/>"
   ]
  },
  {
   "cell_type": "code",
   "execution_count": 16,
   "metadata": {},
   "outputs": [
    {
     "data": {
      "text/plain": [
       "<Popen: returncode: None args: ['/home/ajhoffman/repos/zse/.venv/bin/python'...>"
      ]
     },
     "execution_count": 16,
     "metadata": {},
     "output_type": "execute_result"
    }
   ],
   "source": [
    "# replace a tsite with an aluminum atom\n",
    "zeo = tsub(zeo, 101, \"Al\")\n",
    "view(zeo)"
   ]
  },
  {
   "cell_type": "markdown",
   "metadata": {},
   "source": [
    "<img src=\"figures/cha_al.png\" style=\"width: 400px;\"/>"
   ]
  },
  {
   "cell_type": "markdown",
   "metadata": {},
   "source": [
    "### Create Cation Structures"
   ]
  },
  {
   "cell_type": "markdown",
   "metadata": {},
   "source": [
    "Now, we will use `cation.monovalent()` to enumerate the possible cation locations. This function uses the ring finding tools in the `rings.py` module to find all the rings associated with the T-site provided. It will then place the cation on a vector between the centor of mass of the ring and the T-site. By default, this tool will look for every ring larger than 4-membered rings, but you can specify which rings you would like to include if you don't need every ring. \n",
    "\n",
    "**Inputs**:\n",
    " - `z`: an `Atoms` object containing your zeolite framework\n",
    " - `101`: the index of the T-site about which to place the cation\n",
    " - `'Na'`: the element symbol of the cation you want to use\n",
    " - `include_rings`: optional list of the size rings you would like the cation placed in, if not included the code will use every ring larger than 4-MR\n",
    " - `path`: optional, if included the structure files will be saved in this directory\n",
    " - `bvect`: optional, if included this is the distance between the T-site and cation\n",
    "\n",
    "**Outputs**:\n",
    " - `traj`: an ASE trajectory containing each of the structures. You can view this trajectory with the ASE `view()` command\n",
    " - `locations`: the list of the locations of each cation that correlate to the images in the trajectory"
   ]
  },
  {
   "cell_type": "code",
   "execution_count": 17,
   "metadata": {},
   "outputs": [],
   "source": [
    "traj, locations = monovalent(zeo, 101, \"Na\", included_rings=None, path=None, bvect=None)"
   ]
  },
  {
   "cell_type": "code",
   "execution_count": 18,
   "metadata": {},
   "outputs": [
    {
     "data": {
      "text/plain": [
       "4"
      ]
     },
     "execution_count": 18,
     "metadata": {},
     "output_type": "execute_result"
    }
   ],
   "source": [
    "len(traj)"
   ]
  },
  {
   "cell_type": "code",
   "execution_count": 19,
   "metadata": {},
   "outputs": [
    {
     "name": "stdout",
     "output_type": "stream",
     "text": [
      "12MR\n",
      "8MR\n",
      "8MR\n",
      "6MR\n"
     ]
    }
   ],
   "source": [
    "for lc in locations:\n",
    "    print(lc)"
   ]
  },
  {
   "cell_type": "markdown",
   "metadata": {},
   "source": [
    "The code placed a Na<sup>+</sup> ion in a 12-MR, two different 8-MRs, and a 6-MR. These structures are now ready to be optimized with your DFT software of choice. See below for example of one of the 8-MR structures."
   ]
  },
  {
   "cell_type": "code",
   "execution_count": 20,
   "metadata": {},
   "outputs": [
    {
     "data": {
      "text/plain": [
       "<Popen: returncode: None args: ['/home/ajhoffman/repos/zse/.venv/bin/python'...>"
      ]
     },
     "execution_count": 20,
     "metadata": {},
     "output_type": "execute_result"
    }
   ],
   "source": [
    "view(traj[0])"
   ]
  },
  {
   "cell_type": "markdown",
   "metadata": {},
   "source": [
    "<img src=\"figures/cha_na.png\" style=\"width: 400px;\"/>"
   ]
  },
  {
   "cell_type": "markdown",
   "metadata": {},
   "source": [
    "## Divalent Cation Exchange"
   ]
  },
  {
   "cell_type": "markdown",
   "metadata": {},
   "source": [
    "Let's substitute two Al into a 6-MR of the zeolite framework."
   ]
  },
  {
   "cell_type": "code",
   "execution_count": 21,
   "metadata": {},
   "outputs": [],
   "source": [
    "paired_aluminum_idx = [101, 98]\n",
    "zeo = framework(\"CHA\")\n",
    "zeo = tsub(zeo, paired_aluminum_idx, \"Al\")"
   ]
  },
  {
   "cell_type": "markdown",
   "metadata": {},
   "source": [
    "<img src=\"figures/cha_2al.png\" style=\"width: 400px;\"/>"
   ]
  },
  {
   "cell_type": "markdown",
   "metadata": {},
   "source": [
    "### Create Cation Structures"
   ]
  },
  {
   "cell_type": "markdown",
   "metadata": {},
   "source": [
    "Here, we use `cation.divalent()` to enumerate the structures around a pair of Al aotms. This code is not as sophisticated as the monovalent code for now. \n",
    "I intend to update this at a later point, but it is not high on the priority list for now.\n",
    "\n",
    "**Inputs**:\n",
    " - `zeo`: an `Atoms` object containing your zeolite framework\n",
    " - `'Cu'`: the chemical symbol for your divalent cation\n",
    " - `path`: if provided, all the structure files will be saved in this directory\n",
    "\n",
    "**Outputs**:\n",
    " - `traj`: an ASE trajectory containing each of the structures. You can view this trajectory with the `view()` command from ASE."
   ]
  },
  {
   "cell_type": "code",
   "execution_count": 22,
   "metadata": {},
   "outputs": [],
   "source": [
    "traj = divalent(zeo, \"Cu\", path=None)"
   ]
  },
  {
   "cell_type": "code",
   "execution_count": 23,
   "metadata": {},
   "outputs": [
    {
     "data": {
      "text/plain": [
       "12"
      ]
     },
     "execution_count": 23,
     "metadata": {},
     "output_type": "execute_result"
    }
   ],
   "source": [
    "len(traj)"
   ]
  },
  {
   "cell_type": "code",
   "execution_count": 24,
   "metadata": {},
   "outputs": [
    {
     "data": {
      "text/plain": [
       "<Popen: returncode: None args: ['/home/ajhoffman/repos/zse/.venv/bin/python'...>"
      ]
     },
     "execution_count": 24,
     "metadata": {},
     "output_type": "execute_result"
    }
   ],
   "source": [
    "view(traj[7])"
   ]
  },
  {
   "cell_type": "markdown",
   "metadata": {},
   "source": [
    "<img src=\"figures/cha_cu.png\" style=\"width: 400px;\"/>"
   ]
  }
 ],
 "metadata": {
  "kernelspec": {
   "display_name": "zeose (3.12.9)",
   "language": "python",
   "name": "python3"
  },
  "language_info": {
   "codemirror_mode": {
    "name": "ipython",
    "version": 3
   },
   "file_extension": ".py",
   "mimetype": "text/x-python",
   "name": "python",
   "nbconvert_exporter": "python",
   "pygments_lexer": "ipython3",
   "version": "3.12.9"
  }
 },
 "nbformat": 4,
 "nbformat_minor": 4
}
