{
 "cells": [
  {
   "cell_type": "markdown",
   "metadata": {},
   "source": [
    "# Examples of Use for the cation.py Module"
   ]
  },
  {
   "cell_type": "markdown",
   "metadata": {},
   "source": [
    "## Monovalent Cation Exchange First.\n",
    "A use for this would be to enumerate the structures of possible cation locations around an isolated Al in a zeolite framework."
   ]
  },
  {
   "cell_type": "code",
   "execution_count": 1,
   "metadata": {},
   "outputs": [],
   "source": [
    "from zse.collections import *\n",
    "from zse.cation import *\n",
    "from zse.substitute import *\n",
    "from ase.visualize import view"
   ]
  },
  {
   "cell_type": "code",
   "execution_count": 2,
   "metadata": {},
   "outputs": [],
   "source": [
    "# get a zeolite framework to work with\n",
    "z = framework(\"CHA\")\n",
    "view(z)"
   ]
  },
  {
   "cell_type": "markdown",
   "metadata": {},
   "source": [
    "<img src=\"figures/cha.png\" style=\"width: 400px;\"/>"
   ]
  },
  {
   "cell_type": "code",
   "execution_count": 3,
   "metadata": {},
   "outputs": [],
   "source": [
    "# replace a tsite with an aluminum atom\n",
    "z = tsub(z, 101, \"Al\")\n",
    "view(z)"
   ]
  },
  {
   "cell_type": "markdown",
   "metadata": {},
   "source": [
    "<img src=\"figures/cha_al.png\" style=\"width: 400px;\"/>"
   ]
  },
  {
   "cell_type": "markdown",
   "metadata": {},
   "source": [
    "## Create Cation Structures\n",
    "Now we will use **cation.monovalent( )** to enumerate the possible cation locations. \\\n",
    "This function uses the ring finding in the rings.py module to find all the rings associated with the T-site provided. It will then place the cation on a vector between the centor of mass of the ring and the T-site. By default this will look for every ring larger than 4-membered rings. But you can specify which rings you would like to include if you don't need every ring. \n",
    "\n",
    "### Inputs\n",
    "**z** is an atoms object containing your zeolite framework \\\n",
    "**101** is the index of the T-site about which to place the cation \\\n",
    "**'Na'** is the symbol of the cation you want to use \\\n",
    "**include_rings** optional list of the size rings you would like the cation placed in, if not included it will use every ring larger than 4-MR \\\n",
    "**path** optional, if included the structure files will be saved in path\\\n",
    "**bvect** optional, if included this is the distance between the T-site and cation\n",
    "### Outputs\n",
    "**traj** is an ASE trajectory containing each of the structures. You can view this trajectory with the view( ) command \\\n",
    "**locations** are the list of the locations of each cation that correlat to the images in the trajectory."
   ]
  },
  {
   "cell_type": "code",
   "execution_count": 4,
   "metadata": {},
   "outputs": [],
   "source": [
    "traj, locations = monovalent(z, 101, \"Na\", included_rings=None, path=None, bvect=None)"
   ]
  },
  {
   "cell_type": "code",
   "execution_count": 5,
   "metadata": {},
   "outputs": [
    {
     "name": "stdout",
     "output_type": "stream",
     "text": [
      "12MR\n",
      "8MR\n",
      "8MR\n",
      "6MR\n"
     ]
    }
   ],
   "source": [
    "for l in locations:\n",
    "    print(l)"
   ]
  },
  {
   "cell_type": "markdown",
   "metadata": {},
   "source": [
    "The code placed an Na ion in a 12-MR, two different 8-MRs, and a 6-MR. \\\n",
    "These structures are ready to be geometry optimized with your DFT software of choice now.\n",
    "\n",
    "See below for example of one of the 8-MR structures:"
   ]
  },
  {
   "cell_type": "code",
   "execution_count": 17,
   "metadata": {},
   "outputs": [],
   "source": [
    "view(traj[0])"
   ]
  },
  {
   "cell_type": "markdown",
   "metadata": {},
   "source": [
    "<img src=\"figures/cha_na.png\" style=\"width: 400px;\"/>"
   ]
  },
  {
   "cell_type": "markdown",
   "metadata": {},
   "source": [
    "## Divalent Cation Exchange"
   ]
  },
  {
   "cell_type": "code",
   "execution_count": 20,
   "metadata": {},
   "outputs": [],
   "source": [
    "z = framework(\"CHA\")\n",
    "z = tsub(z, [101, 98], \"Al\")"
   ]
  },
  {
   "cell_type": "markdown",
   "metadata": {},
   "source": [
    "<img src=\"figures/cha_2al.png\" style=\"width: 400px;\"/>"
   ]
  },
  {
   "cell_type": "markdown",
   "metadata": {},
   "source": [
    "## Create Cation Structures\n",
    "Here will use **cation.divalent( )** to enumerate the structures around a pair of Al aotms.\\\n",
    "This code is not as sophisticated as the monovalent code for now. \\\n",
    "I intend to update this at a later point, but it is not high on the priority list for now.\n",
    "### Inputs\n",
    "**z** is an atoms object containing your zeolite framework \\\n",
    "**'Cu'** is the chemical symbol for your divalent cation \\\n",
    "**path** if provided will save all the structure files to that path\n",
    "### Outputs\n",
    "**traj** ASE trajectory containing each of the structures. You can view this trajectory with the view( ) command. "
   ]
  },
  {
   "cell_type": "code",
   "execution_count": 21,
   "metadata": {},
   "outputs": [],
   "source": [
    "traj = divalent(z, \"Cu\", path=None)"
   ]
  },
  {
   "cell_type": "code",
   "execution_count": 23,
   "metadata": {},
   "outputs": [],
   "source": [
    "view(traj[7])"
   ]
  },
  {
   "cell_type": "markdown",
   "metadata": {},
   "source": [
    "<img src=\"figures/cha_cu.png\" style=\"width: 400px;\"/>"
   ]
  },
  {
   "cell_type": "code",
   "execution_count": null,
   "metadata": {},
   "outputs": [],
   "source": []
  }
 ],
 "metadata": {
  "kernelspec": {
   "display_name": "Python 3",
   "language": "python",
   "name": "python3"
  },
  "language_info": {
   "codemirror_mode": {
    "name": "ipython",
    "version": 3
   },
   "file_extension": ".py",
   "mimetype": "text/x-python",
   "name": "python",
   "nbconvert_exporter": "python",
   "pygments_lexer": "ipython3",
   "version": "3.7.6"
  }
 },
 "nbformat": 4,
 "nbformat_minor": 4
}
