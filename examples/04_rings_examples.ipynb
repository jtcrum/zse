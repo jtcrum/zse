{
 "cells": [
  {
   "cell_type": "markdown",
   "metadata": {},
   "source": [
    "# Examples Use for `rings.py` Module"
   ]
  },
  {
   "cell_type": "markdown",
   "metadata": {},
   "source": [
    "This module is the crown jewel of ZSE. I have developed algorithms using graph theory that are able to find rings in zeolite frameworks. There are a number of uses for this information. I use ring finding in the `zse.cation.py` module to place cations in each of the rings associated with a T-site. Our group uses the rings associated with an oxygen or a T-site to classify them in a more descriptive way than just saying O1 or T4. Most recently, I have been using the rings associated with an oxygen site, tetrahedral site, and entire framework as descriptors for neural networks. I have been able to predict deprotonoation energies, and proton location energies using these methods.\n",
    "\n",
    "Various \"rules\" have been published to determine which cycles to include in ring finding. I have implemented 3 of those rules in ZSE.\n",
    "\n",
    "All rings found follow the rule presented by Goetzke and and Klein (https://doi.org/10.1016/0022-3093(91)90145-V). The algorithm used to find those rings is also an implementation of the algorithm presented in that same paper. This approach is the default validation method applied by ZSE. \n",
    "\n",
    "Sastre and Corma presented a rule that counts all of the rings that pass through an atom in a zeolite framework (https://doi.org/10.1021/jp8100128). This rule counts a ring if for any oxygen-oxygen first nearest neighbor pair along the cycle, the cycle is the shortest path that connects them. Use \"validation = 'sastre'\" to get results in accordance with this rule.\n",
    "\n",
    "Vertex symbols are the conventional way of describing T-sites in zeolites, shown [here](https://doi.org/10.1016/S0144-2449(97)00133-4). The [IZA Structure Database](http://www.iza-structure.org/databases/) lists these results as well. A T-site has 6 oxygen-oxygen pairs associated with it, the vertex symbol lists the shortest ring connecting each oxygen-oxygen pair, as well as any degeneracies. Use \"validation = 'vertex'\" to get results in accordance with this rule. \n",
    "\n",
    "**Note:** This rule only works when the index provided is a T-site, ZSE cannot find vertex symbols for an oxygen atom in the zeolite framework. \n",
    "\n",
    "Lastly, I have created my own rule that finds a subset of rings between the Goetzke and Sastre methods. Stacked even membered rings result in a composite ring that traverses both the top and bottom stacked rings. An example is a 14-MR in AFI because of the stacked 12-MRs. This ring fits the definition according to Goetzke and Klein, however it may not be relevant for researchers. My new rule removes these composite rings. Use \"validation='crum'\" to get results in accordance with this rule."
   ]
  },
  {
   "cell_type": "code",
   "execution_count": null,
   "metadata": {},
   "outputs": [],
   "source": [
    "import numpy as np\n",
    "from ase.visualize import view\n",
    "\n",
    "from zse.collections import framework\n",
    "from zse.rings import get_rings, get_unique_rings\n",
    "from zse.utilities import get_tsites, site_labels"
   ]
  },
  {
   "cell_type": "markdown",
   "metadata": {},
   "source": [
    "## `rings.get_rings()`"
   ]
  },
  {
   "cell_type": "markdown",
   "metadata": {},
   "source": [
    "This function is the basic building block of all the ring finding tools in ZSE. We can use this function to find all the rings associated with a T-site or oxygen atom in the zeolite framework.\n",
    "**Note**: This function works best if you remove any adsorbates from your framework first. \n",
    "\n",
    "**Inputs**:\n",
    "- `z`: an `Atoms` object containing your zeolite framework\n",
    "- `index`: the index of the T-site or oxygen atom for which you want to find the rings\n",
    "- `validation`: optional, method for determining valid rings\n",
    "    - If `None` (default), returns all rings following the rule reported by Goetzke, K.; Klein, H.-J. (DOI: 10.1016/0022-3093(91)90145-V)\n",
    "    - `'sastre'` returns rings found by the Sastre, G. and Corma, A. method (DOI: 10.1021/jp8100128)\n",
    "    - `'vertex'` finds all the rings contained in the vertex symbol of a T-site, defined by O'Keeffe, M. and Hyde, S.T. (DOI: 10.1016/S0144-2449(97)00133-4)\n",
    "    - `'crum'` implements my rule that removes stacked composite rings\n",
    "  \n",
    "- **max_ring** Max ring size to look for (# of T-sites), default=12\n",
    "\n",
    "**Outputs**:\n",
    "- `ring_list`: a list of all the ring sizes associated with **index**\n",
    "- `paths`: the indices of the atoms that make up each ring\n",
    "- `ring_atoms`: a list `Atoms` objects that only contains atoms in the rings, convenient for viewing with ASE's visualizer\n",
    "- `atoms`: a larger unit cell of the zeolite framework, big enough to contain the largest ring found"
   ]
  },
  {
   "cell_type": "markdown",
   "metadata": {},
   "source": [
    "Let's check results from each validation method on a T-site in CHA:"
   ]
  },
  {
   "cell_type": "code",
   "execution_count": 13,
   "metadata": {},
   "outputs": [
    {
     "name": "stdout",
     "output_type": "stream",
     "text": [
      "Validation\tRings Found\n",
      "None\t\t[4, 4, 4, 6, 8, 8, 8, 8, 8, 8, 12]\n",
      "crum\t\t[4, 4, 4, 6, 8, 8, 12]\n",
      "sastre\t\t[4, 4, 4, 6, 8, 8]\n",
      "vertex\t\t[4, 4, 4, 6, 8, 8]\n"
     ]
    }
   ],
   "source": [
    "z = framework(\"CHA\")\n",
    "print(\"Validation\\tRings Found\")\n",
    "for v in [None, \"crum\", \"sastre\", \"vertex\"]:\n",
    "    ring_list, paths, ring_atoms, atoms = get_rings(z, 101, validation=v, max_ring=12)\n",
    "    print(f\"{v}\\t\\t{ring_list}\")"
   ]
  },
  {
   "cell_type": "markdown",
   "metadata": {},
   "source": [
    "Above I presented the rules from least restrictive to most restrictive.\n",
    "\n",
    "Next, if you want the atom indices of the atoms that make up the rings, you can do the following:"
   ]
  },
  {
   "cell_type": "code",
   "execution_count": 11,
   "metadata": {},
   "outputs": [
    {
     "name": "stdout",
     "output_type": "stream",
     "text": [
      "Ring Size \t Path\n",
      "4 \t\t [101, 11, 92, 28, 82, 1, 73, 19]\n",
      "4 \t\t [101, 11, 92, 71, 89, 44, 80, 62]\n",
      "4 \t\t [101, 50, 95, 68, 86, 8, 80, 62]\n",
      "6 \t\t [101, 50, 95, 14, 107, 53, 98, 17, 104, 47, 92, 11]\n",
      "8 \t\t [101, 19, 73, 37, 85, 1003, 1070, 1037, 1055, 1001, 1062, 45, 102, 26, 80, 62]\n",
      "8 \t\t [101, 50, 95, 34, 412, 394, 415, 351, 405, 39, 75, 21, 106, 55, 73, 19]\n"
     ]
    }
   ],
   "source": [
    "print(\"Ring Size \\t Path\")\n",
    "for r, p in zip(ring_list, paths, strict=False):\n",
    "    print(f\"{r} \\t\\t {p}\")"
   ]
  },
  {
   "cell_type": "code",
   "execution_count": 22,
   "metadata": {},
   "outputs": [
    {
     "name": "stdout",
     "output_type": "stream",
     "text": [
      "Ring Size \t Path\n",
      "4 \t\t ['T1', 'O1', 'T1', 'O2', 'T1', 'O1', 'T1', 'O2']\n",
      "4 \t\t ['T1', 'O1', 'T1', 'O4', 'T1', 'O3', 'T1', 'O4']\n",
      "4 \t\t ['T1', 'O3', 'T1', 'O4', 'T1', 'O1', 'T1', 'O4']\n",
      "6 \t\t ['T1', 'O3', 'T1', 'O1', 'T1', 'O3', 'T1', 'O1', 'T1', 'O3', 'T1', 'O1']\n",
      "8 \t\t ['T1', 'O2', 'T1', 'O3', 'T1', 'O2', 'T1', 'O4', 'T1', 'O2', 'T1', 'O3', 'T1', 'O2', 'T1', 'O4']\n",
      "8 \t\t ['T1', 'O3', 'T1', 'O2', 'T1', 'O4', 'T1', 'O2', 'T1', 'O3', 'T1', 'O2', 'T1', 'O4', 'T1', 'O2']\n"
     ]
    }
   ],
   "source": [
    "# We can also get the T-site and O-site labels for the rings if the framework is an IZA framework:\n",
    "# Right now you have to get this information manually,\n",
    "# but in the future there will be a function to do this for you.\n",
    "inds = np.arange(len(atoms)).reshape(-1, len(z))\n",
    "labels = site_labels(z, \"CHA\")\n",
    "print(\"Ring Size \\t Path\")\n",
    "for r, p in zip(ring_list, paths, strict=False):\n",
    "    path = [labels[int(np.where(inds == x)[1])] for x in p]\n",
    "    print(f\"{r} \\t\\t {path}\")"
   ]
  },
  {
   "cell_type": "markdown",
   "metadata": {},
   "source": [
    "### Notes\n",
    "When zeolite scientists discuss rings in zeolites, a 6-membered ring (6-MR) contains 6 tetrahedral sites&mdash;as such, a 6-MR actually contains 12 atoms total. This particular oxygen (`index = 0`) is associated with three rings: a 6-MR and two 4-MRs. We can also visualize these rings below."
   ]
  },
  {
   "cell_type": "code",
   "execution_count": 25,
   "metadata": {},
   "outputs": [],
   "source": [
    "# Let's visualize some of the rings:\n",
    "# You can view all the rings with:\n",
    "view(ring_atoms)\n",
    "\n",
    "# Or pick a specific ring to view using its index:\n",
    "view(ring_atoms[4])"
   ]
  },
  {
   "cell_type": "markdown",
   "metadata": {},
   "source": [
    "<img src=\"figures/cha_4mr.png\" align=\"left\" style=\"width: 300px;\"/> <img src=\"figures/cha_6mr.png\" align=\"left\" style=\"width: 300px;\"/><img src=\"figures/cha_8mr.png\" align=\"left\" style=\"width: 300px;\"/>"
   ]
  },
  {
   "cell_type": "markdown",
   "metadata": {},
   "source": [
    "## `rings.get_unique_rings()`"
   ]
  },
  {
   "cell_type": "markdown",
   "metadata": {},
   "source": [
    "We can also find all the unique rings of a framework (based on geometry). To do so, we will find all the rings associated with each type of unique T-site in the framwork, add all the rings together and use some tricks to remove duplicates. The inputs and outputs of this function are slightly different from what we had above. \n",
    "\n",
    "**Inputs**:\n",
    "- `z`: an `Atoms` object containing your zeolite framework \n",
    "- `tsite`: a list of the unique T-site indices for the framework, you can get these with the `utilities.get_tsites()` command for IZA frameworks\n",
    "- `validation`: optional, method for determining valid rings (see above)\n",
    "- `max_ring`: max ring size to look for (# of T-sites), the default is 12\n",
    "\n",
    "**Outputs**:\n",
    "- `ring_list`: a list of all the ring sizes associated with **index**\n",
    "- `paths`: the indices of the atoms that make up each ring\n",
    "- `ring_atoms`: a list ASE `Atoms` objects that only contains atoms in the rings, convenient for viewing with ASE's visualizer\n",
    "- `atoms`: a larger unit cell of the zeolite framework, big enough to contain the largest ring found"
   ]
  },
  {
   "cell_type": "code",
   "execution_count": 6,
   "metadata": {},
   "outputs": [
    {
     "name": "stdout",
     "output_type": "stream",
     "text": [
      "T-Site\tMultiplicity\tExample Index\n",
      "T1\t8\t\t48\n",
      "T2\t8\t\t56\n",
      "T3\t4\t\t64\n",
      "T4\t4\t\t68\n"
     ]
    }
   ],
   "source": [
    "# I'm going to use a different framework from CHA here\n",
    "# Since CHA only has one unique T-site, it doesn't have many unique rings\n",
    "\n",
    "z = framework(\"TON\")\n",
    "\n",
    "# ZSE has a built in method to get the unique T-site indices\n",
    "tsites, tmults, tinds = get_tsites(\"TON\")\n",
    "\n",
    "print(\"T-Site\\tMultiplicity\\tExample Index\")\n",
    "for s, m, i in zip(tsites, tmults, tinds, strict=False):\n",
    "    print(f\"{s}\\t{m}\\t\\t{i}\")\n",
    "\n",
    "# Use the T-Site example indices to find all unique rings\n",
    "ring_list, paths, ring_atoms, atoms = get_unique_rings(z, tinds, validation=None, max_ring=10)"
   ]
  },
  {
   "cell_type": "code",
   "execution_count": null,
   "metadata": {},
   "outputs": [
    {
     "name": "stdout",
     "output_type": "stream",
     "text": [
      "List of unique rings:\n",
      "[5, 6, 6, 6, 10]\n",
      "\n",
      "Atom indices making each ring:\n",
      "[48, 8, 68, 43, 427, 391, 423, 32, 56, 16]\n",
      "[48, 0, 844, 804, 862, 479, 497, 473, 502, 444, 484, 4]\n",
      "[48, 0, 844, 804, 862, 806, 846, 2, 50, 10, 68, 8]\n",
      "[48, 4, 484, 452, 492, 468, 491, 467, 852, 812, 844, 0]\n",
      "[48, 0, 844, 812, 852, 820, 858, 2550, 2582, 2542, 2574, 1730, 1778, 1746, 1786, 1754, 64, 24, 56, 16]\n",
      "\n",
      "Atom labels for each ring:\n",
      "['T1', 'O2', 'T4', 'O6', 'T3', 'O4', 'T2', 'O5', 'T2', 'O3']\n",
      "['T1', 'O1', 'T1', 'O2', 'T4', 'O6', 'T3', 'O6', 'T4', 'O2', 'T1', 'O1']\n",
      "['T1', 'O1', 'T1', 'O2', 'T4', 'O2', 'T1', 'O1', 'T1', 'O2', 'T4', 'O2']\n",
      "['T1', 'O1', 'T1', 'O3', 'T2', 'O5', 'T2', 'O5', 'T2', 'O3', 'T1', 'O1']\n",
      "['T1', 'O1', 'T1', 'O3', 'T2', 'O4', 'T3', 'O4', 'T2', 'O3', 'T1', 'O1', 'T1', 'O3', 'T2', 'O4', 'T3', 'O4', 'T2', 'O3']\n"
     ]
    }
   ],
   "source": [
    "print(\"List of unique rings:\")\n",
    "print(ring_list)\n",
    "\n",
    "print(\"\\nAtom indices making each ring:\")\n",
    "for r in paths:\n",
    "    print(r)\n",
    "\n",
    "print(\"\\nAtom labels for each ring:\")\n",
    "inds = np.arange(len(atoms)).reshape(-1, len(z))\n",
    "labels = site_labels(z, \"TON\")\n",
    "for _r, p in zip(ring_list, paths, strict=False):\n",
    "    path = [labels[int(np.where(inds == x)[1])] for x in p]\n",
    "    print(path)"
   ]
  },
  {
   "cell_type": "markdown",
   "metadata": {},
   "source": [
    "## Notes\n",
    "Here, we can see that the TON framework has one unique 5-MR, three unique 6-MRs, and one unique 10-MR."
   ]
  }
 ],
 "metadata": {
  "kernelspec": {
   "display_name": "Python 3",
   "language": "python",
   "name": "python3"
  },
  "language_info": {
   "codemirror_mode": {
    "name": "ipython",
    "version": 3
   },
   "file_extension": ".py",
   "mimetype": "text/x-python",
   "name": "python",
   "nbconvert_exporter": "python",
   "pygments_lexer": "ipython3",
   "version": "3.7.6"
  }
 },
 "nbformat": 4,
 "nbformat_minor": 4
}
